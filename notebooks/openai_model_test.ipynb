{
 "cells": [
  {
   "cell_type": "code",
   "id": "initial_id",
   "metadata": {
    "collapsed": true,
    "ExecuteTime": {
     "end_time": "2025-07-11T05:27:38.531645Z",
     "start_time": "2025-07-11T05:27:31.163173Z"
    }
   },
   "source": [
    "import os\n",
    "from dotenv import load_dotenv\n",
    "from langchain.chat_models import ChatOpenAI\n",
    "from langchain.prompts import PromptTemplate\n",
    "from langchain.output_parsers import ResponseSchema, StructuredOutputParser\n",
    "\n",
    "load_dotenv()  # Load API key from .env if using\n",
    "\n",
    "# Define response schema\n",
    "response_schema = [\n",
    "    ResponseSchema(\n",
    "        name=\"blog_title\",\n",
    "        description=\"SEO-friendly title of the blog post, must not exceed 150 characters.\"\n",
    "    ),\n",
    "    ResponseSchema(\n",
    "        name=\"post_content\",\n",
    "        description=\"Don't include blog title again\"\n",
    "    ),\n",
    "    ResponseSchema(\n",
    "        name=\"tags\",\n",
    "        description=\"List the relevant tags for the post\"\n",
    "    ),\n",
    "]\n",
    "\n",
    "# Output parser\n",
    "output_parser = StructuredOutputParser.from_response_schemas(response_schema)\n",
    "format_instructions = output_parser.get_format_instructions()\n",
    "\n",
    "# Prompt\n",
    "template = PromptTemplate(\n",
    "    input_variables=[\"text\"],\n",
    "    template=\"\"\"\n",
    "You are a creative blog writer. Given the passage below, write a blog post and return a JSON with:\n",
    "- \"blog_title\": an SEO-friendly title\n",
    "- \"post_content\": the main content (do not repeat title)\n",
    "- \"tags\": list of 3-5 relevant hashtags\n",
    "\n",
    "Format your response *exactly* like this:\n",
    "\n",
    "{format_instructions}\n",
    "\n",
    "Passage:\n",
    "{text}\n",
    "\"\"\".strip(),\n",
    "    partial_variables={\"format_instructions\": format_instructions}\n",
    ")\n",
    "\n",
    "# GPT-4o Mini via OpenAI\n",
    "llm = ChatOpenAI(\n",
    "    model=\"gpt-4o\",  # OpenAI routes mini model under the hood\n",
    "    temperature=0.7,\n",
    "    max_tokens=1000\n",
    ")\n",
    "\n",
    "# Full Chain\n",
    "chain = template | llm | output_parser\n",
    "\n",
    "# Invoke chain\n",
    "try:\n",
    "    result = chain.invoke({\n",
    "        \"text\": \"Facebook is a social media platform that connects people globally.\"\n",
    "    })\n",
    "    print(\"Blog Title:\", result[\"blog_title\"])\n",
    "    print(\"Blog Content:\", result[\"post_content\"])\n",
    "    print(\"Tags:\", result[\"tags\"])\n",
    "except Exception as e:\n",
    "    print(\"Error:\", str(e))\n"
   ],
   "outputs": [
    {
     "name": "stdout",
     "output_type": "stream",
     "text": [
      "Blog Title: How Facebook Connects the World: Exploring Global Social Media Impact\n",
      "Blog Content: In the vast landscape of social media, Facebook stands out as a platform that has revolutionized the way we connect with each other globally. With over two billion active users, it is not just a platform but a digital ecosystem that brings people closer, transcending geographical boundaries and cultural differences. Facebook has enabled users to share their stories, experiences, and memories, creating a virtual community where everyone can participate.\n",
      "\n",
      "The platform's ability to connect people globally is unparalleled. It offers features such as groups, pages, and events that foster communities and facilitate communication among like-minded individuals, no matter where they are in the world. Moreover, Facebook's continuous innovation in its services, such as Messenger and Facebook Live, has enhanced real-time communication, making it easier for people to stay connected with friends and family.\n",
      "\n",
      "Facebook's influence extends beyond personal connections. It has become a powerful tool for businesses, allowing them to engage with customers, build brand awareness, and even conduct market research. Non-profit organizations and social movements also utilize Facebook to reach a wider audience, raise awareness, and drive change.\n",
      "\n",
      "However, with great power comes great responsibility. Facebook has faced challenges concerning privacy, misinformation, and data security. The platform is continuously evolving to address these issues, ensuring user trust and safety.\n",
      "\n",
      "In conclusion, Facebook's role in connecting people globally is significant and continues to shape the digital social experience. As it evolves, it remains a testament to the power of technology in bridging gaps and bringing the world closer together.\n",
      "Tags: ['#Facebook', '#SocialMedia', '#GlobalConnectivity', '#DigitalCommunity', '#TechnologyImpact']\n"
     ]
    }
   ],
   "execution_count": 5
  },
  {
   "metadata": {
    "ExecuteTime": {
     "end_time": "2025-07-11T05:12:04.965976Z",
     "start_time": "2025-07-11T05:12:04.956914Z"
    }
   },
   "cell_type": "code",
   "source": [
    "import os\n",
    "from dotenv import load_dotenv\n",
    "from langchain.chat_models import ChatOpenAI\n",
    "from langchain.prompts import PromptTemplate\n",
    "from langchain.output_parsers import ResponseSchema, StructuredOutputParser"
   ],
   "id": "d0a70cf898e2f8f2",
   "outputs": [],
   "execution_count": 3
  }
 ],
 "metadata": {
  "kernelspec": {
   "display_name": "Python 3",
   "language": "python",
   "name": "python3"
  },
  "language_info": {
   "codemirror_mode": {
    "name": "ipython",
    "version": 2
   },
   "file_extension": ".py",
   "mimetype": "text/x-python",
   "name": "python",
   "nbconvert_exporter": "python",
   "pygments_lexer": "ipython2",
   "version": "2.7.6"
  }
 },
 "nbformat": 4,
 "nbformat_minor": 5
}
