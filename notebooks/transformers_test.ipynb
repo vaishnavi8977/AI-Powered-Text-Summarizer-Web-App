{
 "cells": [
  {
   "cell_type": "code",
   "execution_count": 2,
   "id": "25c1091e",
   "metadata": {},
   "outputs": [
    {
     "name": "stderr",
     "output_type": "stream",
     "text": [
      "Device set to use cpu\n"
     ]
    },
    {
     "name": "stdout",
     "output_type": "stream",
     "text": [
      "[{'summary_text': 'This country needs more twenty and thirty somethings dedicated to the dying art of family farming. It takes a humble, hearty, and hopeful person to pull this lifestyle off. And while I think my dream of farming is beautiful, I also hope there are folks out there willing to move from of their fantastical farms, to crouching in the dirt.'}]\n"
     ]
    }
   ],
   "source": [
    "from transformers import pipeline\n",
    "\n",
    "summarizer = pipeline(\"summarization\", model=\"facebook/bart-large-cnn\")\n",
    "response = summarizer(\"recently had an opportunity to chat with a local farmer for my dissertation. \" \\\n",
    "\"I was lucky enough to be able to meet him at his farm, about a half of an hour Northeast of Denver. He was a humble man with strikingly dirty hands. Dirt was caked so far underneath his fingernails that I wondered if it was painful. His hands, along with the usual lifelines and heartlines, carried ridges and valleys so deep and calloused over that they looked more like tools than appendages. These were the hands of \" \\\n",
    "\"an endlessly working man, bound by seasons and storms. These were the hands of a farmer But it is also as equally richly rewarding as it is back breaking. \" \\\n",
    "\"In fact, the measure of a happy farmer, some would say, is how closely positively correlated those two things are. This country needs more twenty and \" \\\n",
    "\"thirty somethings dedicated to the dying art of family farming. It takes a humble, hearty, and hopeful person to pull this lifestyle off. And while \" \\\n",
    "\"I think my dream of farming is beautiful, I also hope there are folks out there willing to move from of their fantastical farms, \" \\\n",
    "\"to crouching in the dirt, planting seedlings, plotting their acres, going to market, oh, and of course, pulling those weeds\")\n",
    "print(response)"
   ]
  }
 ],
 "metadata": {
  "kernelspec": {
   "display_name": "Python 3",
   "language": "python",
   "name": "python3"
  },
  "language_info": {
   "codemirror_mode": {
    "name": "ipython",
    "version": 3
   },
   "file_extension": ".py",
   "mimetype": "text/x-python",
   "name": "python",
   "nbconvert_exporter": "python",
   "pygments_lexer": "ipython3",
   "version": "3.13.5"
  }
 },
 "nbformat": 4,
 "nbformat_minor": 5
}
