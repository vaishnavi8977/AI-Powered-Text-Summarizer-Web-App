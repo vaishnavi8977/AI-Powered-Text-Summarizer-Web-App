{
 "cells": [
  {
   "cell_type": "code",
   "id": "2b14bcec",
   "metadata": {
    "ExecuteTime": {
     "end_time": "2025-07-06T19:54:08.268926Z",
     "start_time": "2025-07-06T19:54:08.243755Z"
    }
   },
   "source": [
    "from transformers import pipeline\n",
    "from langchain_community import HuggingFacePipeline\n",
    "from langchain.prompts import PromptTemplate\n",
    "from langchain import LLMChain\n",
    "import torch\n",
    "\n",
    "summarizer = pipeline(\"summarization\", model=\"facebook/bart-large-cnn\", truncate = True)\n",
    "\n",
    "llm = HuggingFacePipeline(summarizer)\n",
    "\n",
    "# create the prompt template\n",
    "template = PromptTemplate.from_template(\"Summarize the following text even more concisely:{inputText}\")\n",
    "\n",
    "chain = LLMChain(llm=llm, prompt=prompt)\n",
    "\n",
    "inputText = \"recently had an opportunity to chat with a local farmer for my dissertation. \" \\\n",
    "\"I was lucky enough to be able to meet him at his farm, about a half of an hour Northeast of Denver. He was a humble man with strikingly dirty hands. Dirt was caked so far underneath his fingernails that I wondered if it was painful. His hands, along with the usual lifelines and heartlines, carried ridges and valleys so deep and calloused over that they looked more like tools than appendages. These were the hands of \" \\\n",
    "\"an endlessly working man, bound by seasons and storms. These were the hands of a farmer But it is also as equally richly rewarding as it is back breaking. \" \\\n",
    "\"In fact, the measure of a happy farmer, some would say, is how closely positively correlated those two things are. This country needs more twenty and \" \\\n",
    "\"thirty somethings dedicated to the dying art of family farming. It takes a humble, hearty, and hopeful person to pull this lifestyle off. And while \" \\\n",
    "\"I think my dream of farming is beautiful, I also hope there are folks out there willing to move from of their fantastical farms, \" \\\n",
    "\"to crouching in the dirt, planting seedlings, plotting their acres, going to market, oh, and of course, pulling those weeds\"\n",
    "summary = chain.run(inputText = inputText,\n",
    "                    max_length = 100,\n",
    "                    min_length = 30)\n",
    "\n",
    "print(summary)"
   ],
   "outputs": [
    {
     "ename": "ImportError",
     "evalue": "cannot import name 'HuggingFacePipeline' from 'langchain_community' (C:\\Development\\AI-Powered-Text-Summarizer-Web-App\\.venv\\Lib\\site-packages\\langchain_community\\__init__.py)",
     "output_type": "error",
     "traceback": [
      "\u001B[31m---------------------------------------------------------------------------\u001B[39m",
      "\u001B[31mImportError\u001B[39m                               Traceback (most recent call last)",
      "\u001B[36mCell\u001B[39m\u001B[36m \u001B[39m\u001B[32mIn[27]\u001B[39m\u001B[32m, line 2\u001B[39m\n\u001B[32m      1\u001B[39m \u001B[38;5;28;01mfrom\u001B[39;00m\u001B[38;5;250m \u001B[39m\u001B[34;01mtransformers\u001B[39;00m\u001B[38;5;250m \u001B[39m\u001B[38;5;28;01mimport\u001B[39;00m pipeline\n\u001B[32m----> \u001B[39m\u001B[32m2\u001B[39m \u001B[38;5;28;01mfrom\u001B[39;00m\u001B[38;5;250m \u001B[39m\u001B[34;01mlangchain_community\u001B[39;00m\u001B[38;5;250m \u001B[39m\u001B[38;5;28;01mimport\u001B[39;00m HuggingFacePipeline\n\u001B[32m      3\u001B[39m \u001B[38;5;28;01mfrom\u001B[39;00m\u001B[38;5;250m \u001B[39m\u001B[34;01mlangchain\u001B[39;00m\u001B[34;01m.\u001B[39;00m\u001B[34;01mprompts\u001B[39;00m\u001B[38;5;250m \u001B[39m\u001B[38;5;28;01mimport\u001B[39;00m PromptTemplate\n\u001B[32m      4\u001B[39m \u001B[38;5;28;01mfrom\u001B[39;00m\u001B[38;5;250m \u001B[39m\u001B[34;01mlangchain\u001B[39;00m\u001B[38;5;250m \u001B[39m\u001B[38;5;28;01mimport\u001B[39;00m LLMChain\n",
      "\u001B[31mImportError\u001B[39m: cannot import name 'HuggingFacePipeline' from 'langchain_community' (C:\\Development\\AI-Powered-Text-Summarizer-Web-App\\.venv\\Lib\\site-packages\\langchain_community\\__init__.py)"
     ]
    }
   ],
   "execution_count": 27
  },
  {
   "cell_type": "code",
   "id": "73fb4b0f",
   "metadata": {
    "ExecuteTime": {
     "end_time": "2025-07-06T21:05:07.136603Z",
     "start_time": "2025-07-06T21:04:53.757239Z"
    }
   },
   "source": [
    "from transformers import pipeline\n",
    "from langchain_community.llms import HuggingFacePipeline\n",
    "from langchain.prompts import PromptTemplate\n",
    "from langchain.chains import LLMChain\n",
    "import torch\n",
    "\n",
    "# Create the Hugging Face summarization pipeline with generation parameters\n",
    "summarizer = pipeline(\n",
    "    \"summarization\",\n",
    "    model=\"facebook/bart-large-cnn\",\n",
    "    device=\"cpu\",\n",
    "    max_length=100,\n",
    "    min_length=30,\n",
    "    truncation=True\n",
    ")\n",
    "\n",
    "# Wrap in LangChain-compatible LLM\n",
    "llm = HuggingFacePipeline(pipeline=summarizer)\n",
    "\n",
    "# Create prompt template\n",
    "template = PromptTemplate.from_template(\"Summarize the following text even more concisely: {text}\")\n",
    "\n",
    "# Build the chain\n",
    "chain = LLMChain(llm=llm, prompt=template)\n",
    "\n",
    "# Input text\n",
    "inputText = \"\"\"\n",
    "recently had an opportunity to chat with a local farmer for my dissertation. I was lucky enough to be able to meet him at his farm, about a half of an hour Northeast of Denver. He was a humble man with strikingly dirty hands. Dirt was caked so far underneath his fingernails that I wondered if it was painful. His hands, along with the usual lifelines and heartlines, carried ridges and valleys so deep and calloused over that they looked more like tools than appendages. These were the hands of an endlessly working man, bound by seasons and storms. These were the hands of a farmer But it is also as equally richly rewarding as it is back breaking. In fact, the measure of a happy farmer, some would say, is how closely positively correlated those two things are. This country needs more twenty and thirty somethings dedicated to the dying art of family farming. It takes a humble, hearty, and hopeful person to pull this lifestyle off. And while I think my dream of farming is beautiful, I also hope there are folks out there willing to move from of their fantastical farms, to crouching in the dirt, planting seedlings, plotting their acres, going to market, oh, and of course, pulling those weeds\n",
    "\"\"\"\n",
    "\n",
    "# Run the chain\n",
    "summary = chain.run(text=inputText)\n",
    "\n",
    "print(\"Summary:\")\n",
    "print(summary)\n"
   ],
   "outputs": [
    {
     "name": "stderr",
     "output_type": "stream",
     "text": [
      "Device set to use cpu\n",
      "C:\\Users\\vdade\\AppData\\Local\\Temp\\ipykernel_15388\\970300237.py:18: LangChainDeprecationWarning: The class `HuggingFacePipeline` was deprecated in LangChain 0.0.37 and will be removed in 1.0. An updated version of the class exists in the :class:`~langchain-huggingface package and should be used instead. To use it run `pip install -U :class:`~langchain-huggingface` and import as `from :class:`~langchain_huggingface import HuggingFacePipeline``.\n",
      "  llm = HuggingFacePipeline(pipeline=summarizer)\n",
      "C:\\Users\\vdade\\AppData\\Local\\Temp\\ipykernel_15388\\970300237.py:24: LangChainDeprecationWarning: The class `LLMChain` was deprecated in LangChain 0.1.17 and will be removed in 1.0. Use :meth:`~RunnableSequence, e.g., `prompt | llm`` instead.\n",
      "  chain = LLMChain(llm=llm, prompt=template)\n",
      "C:\\Users\\vdade\\AppData\\Local\\Temp\\ipykernel_15388\\970300237.py:32: LangChainDeprecationWarning: The method `Chain.run` was deprecated in langchain 0.1.0 and will be removed in 1.0. Use :meth:`~invoke` instead.\n",
      "  summary = chain.run(text=inputText)\n",
      "Asking to truncate to max_length but no maximum length is provided and the model has no predefined maximum length. Default to no truncation.\n"
     ]
    },
    {
     "name": "stdout",
     "output_type": "stream",
     "text": [
      "Summary:\n",
      "This country needs more twenty and thirty somethings dedicated to the dying art of family farming. It takes a humble, hearty, and hopeful person to pull this lifestyle off. While I think my dream of farming is beautiful, I also hope there are folks out there willing to move from of their fantastical farms, to crouching in the dirt.\n"
     ]
    }
   ],
   "execution_count": 4
  },
  {
   "metadata": {
    "ExecuteTime": {
     "end_time": "2025-07-06T21:03:42.049444Z",
     "start_time": "2025-07-06T21:03:40.171955Z"
    }
   },
   "cell_type": "code",
   "source": [
    "import sys\n",
    "import torch\n",
    "print(\"Running in virtual environment:\", sys.prefix != sys.base_prefix)\n",
    "print(\"Current Python environment path:\", sys.prefix)\n",
    "print(\"PyTorch version:\", torch.__version__)\n",
    "print(\"CUDA available:\", torch.cuda.is_available())\n",
    "print(\"CUDA version:\", torch.version.cuda)"
   ],
   "id": "b78a3ce65ecadd4b",
   "outputs": [
    {
     "name": "stdout",
     "output_type": "stream",
     "text": [
      "Running in virtual environment: True\n",
      "Current Python environment path: C:\\Development\\AI-Powered-Text-Summarizer-Web-App\\.venv\n",
      "PyTorch version: 2.7.1+cpu\n",
      "CUDA available: False\n",
      "CUDA version: None\n"
     ]
    }
   ],
   "execution_count": 1
  },
  {
   "metadata": {},
   "cell_type": "code",
   "outputs": [],
   "execution_count": null,
   "source": "",
   "id": "5e7a3e8c4007941b"
  }
 ],
 "metadata": {
  "kernelspec": {
   "display_name": "Python 3",
   "language": "python",
   "name": "python3"
  },
  "language_info": {
   "codemirror_mode": {
    "name": "ipython",
    "version": 3
   },
   "file_extension": ".py",
   "mimetype": "text/x-python",
   "name": "python",
   "nbconvert_exporter": "python",
   "pygments_lexer": "ipython3",
   "version": "3.13.5"
  }
 },
 "nbformat": 4,
 "nbformat_minor": 5
}
